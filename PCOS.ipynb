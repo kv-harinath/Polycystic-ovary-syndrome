{
 "cells": [
  {
   "cell_type": "code",
   "execution_count": 15,
   "id": "e2658a72",
   "metadata": {},
   "outputs": [],
   "source": [
    "import seaborn as sns\n",
    "from sklearn.metrics import accuracy_score , confusion_matrix , classification_report\n",
    "import numpy as np\n",
    "import pandas as pd\n",
    "from sklearn.model_selection import cross_val_score, GridSearchCV\n",
    "from sklearn.impute import SimpleImputer\n",
    "from sklearn.preprocessing import StandardScaler, LabelEncoder, OneHotEncoder\n",
    "from sklearn.neighbors import KNeighborsClassifier\n",
    "from sklearn.pipeline import Pipeline\n",
    "from sklearn.model_selection import train_test_split\n",
    "from sklearn.compose import ColumnTransformer\n",
    "from sklearn.svm import SVC\n",
    "from sklearn.ensemble import RandomForestClassifier\n",
    "import joblib"
   ]
  },
  {
   "cell_type": "code",
   "execution_count": 3,
   "id": "78da4d93",
   "metadata": {},
   "outputs": [],
   "source": [
    "data = pd.read_excel(r\"C:\\Users\\cdhan\\Downloads\\PCOS_data_without_infertility.xlsx\")\n",
    "data[\"AMH(ng/mL)\"] = pd.to_numeric(data[\"AMH(ng/mL)\"], errors='coerce')\n",
    "data[\"II    beta-HCG(mIU/mL)\"] = pd.to_numeric(data[\"II    beta-HCG(mIU/mL)\"], errors='coerce')\n",
    "data['Marraige Status (Yrs)'].fillna(data['Marraige Status (Yrs)'].median(),inplace=True)\n",
    "data['II    beta-HCG(mIU/mL)'].fillna(data['II    beta-HCG(mIU/mL)'].median(),inplace=True)\n",
    "data['AMH(ng/mL)'].fillna(data['AMH(ng/mL)'].median(),inplace=True)\n",
    "data['Fast food (Y/N)'].fillna(data['Fast food (Y/N)'].median(),inplace=True)\n",
    "\n",
    "#Clearing up the extra space in the column names (optional)\n",
    "\n",
    "data.columns = [col.strip() for col in data.columns]\n",
    "X = data.drop([\"Sl. No\",'Unnamed: 44',\"Patient File No.\", \"PCOS (Y/N)\"], axis=1) \n",
    "X = pd.get_dummies(X)\n",
    "y = data[\"PCOS (Y/N)\"].ravel()\n",
    "label = LabelEncoder()\n",
    "y = label.fit_transform(y)\n"
   ]
  },
  {
   "cell_type": "code",
   "execution_count": 4,
   "id": "a996d6e5",
   "metadata": {},
   "outputs": [],
   "source": [
    "numeric_transformer = Pipeline(steps=[\n",
    "    ('imputer', SimpleImputer(strategy='median')),  # You can change the strategy as needed (e.g., 'median', 'most_frequent', etc.)\n",
    "    ('scaler', StandardScaler()),\n",
    "    ('onehot', OneHotEncoder(handle_unknown='ignore'))\n",
    "])\n",
    "preprocessor = ColumnTransformer(\n",
    "    transformers=[\n",
    "        ('num', numeric_transformer, X.select_dtypes(include=['float64', 'int64']).columns)\n",
    "        \n",
    "    ])"
   ]
  },
  {
   "cell_type": "code",
   "execution_count": 5,
   "id": "9bf98159",
   "metadata": {},
   "outputs": [
    {
     "name": "stdout",
     "output_type": "stream",
     "text": [
      "Accuracy: 83.4862385321101\n",
      "Confusion Matrix:\n",
      "[[72  5]\n",
      " [13 19]]\n",
      "classification_report_knn\n",
      "              precision    recall  f1-score   support\n",
      "\n",
      "           0       0.85      0.94      0.89        77\n",
      "           1       0.79      0.59      0.68        32\n",
      "\n",
      "    accuracy                           0.83       109\n",
      "   macro avg       0.82      0.76      0.78       109\n",
      "weighted avg       0.83      0.83      0.83       109\n",
      "\n"
     ]
    }
   ],
   "source": [
    "X_train, X_test, y_train, y_test = train_test_split(X, y, test_size=0.2, random_state=42)\n",
    "\n",
    "pipeline = Pipeline(steps=[\n",
    "    ('preprocessor', preprocessor),\n",
    "    ('knn', KNeighborsClassifier(n_neighbors=3))\n",
    "])\n",
    "# Fit the pipeline on the training data\n",
    "pipeline.fit(X_train, y_train)\n",
    "\n",
    "# Make predictions on the test data\n",
    "predictions = pipeline.predict(X_test)\n",
    "\n",
    "# Evaluate the model\n",
    "accuracy = accuracy_score(y_test, predictions)*100\n",
    "conf_matrix = confusion_matrix(y_test, predictions)\n",
    "classification_report_knn = classification_report(y_test,predictions)\n",
    "\n",
    "print(f'Accuracy: {accuracy}')\n",
    "print('Confusion Matrix:')\n",
    "print(conf_matrix)\n",
    "print(\"classification_report_knn\")\n",
    "print(classification_report_knn)"
   ]
  },
  {
   "cell_type": "code",
   "execution_count": 7,
   "id": "39b00016-9f68-496d-9ff4-37802035e998",
   "metadata": {},
   "outputs": [
    {
     "name": "stdout",
     "output_type": "stream",
     "text": [
      "Accuracy: 83.4862385321101\n",
      "Confusion Matrix:\n",
      "[[72  5]\n",
      " [13 19]]\n",
      "classification_report_knn\n",
      "              precision    recall  f1-score   support\n",
      "\n",
      "           0       0.85      0.94      0.89        77\n",
      "           1       0.79      0.59      0.68        32\n",
      "\n",
      "    accuracy                           0.83       109\n",
      "   macro avg       0.82      0.76      0.78       109\n",
      "weighted avg       0.83      0.83      0.83       109\n",
      "\n"
     ]
    }
   ],
   "source": [
    "X_train, X_test, y_train, y_test = train_test_split(X, y, test_size=0.2, random_state=42)\n",
    "\n",
    "pipeline_knn = Pipeline(steps=[\n",
    "    ('preprocessor', preprocessor),\n",
    "    ('knn', KNeighborsClassifier(n_neighbors=3))\n",
    "])\n",
    "# Fitting the pipeline on the training data\n",
    "pipeline_knn.fit(X_train, y_train)\n",
    "\n",
    "# Making predictions on the test data\n",
    "predictions_knn = pipeline_knn.predict(X_test)\n",
    "\n",
    "# Evaluate the model\n",
    "accuracy_knn = accuracy_score(y_test, predictions_knn)*100\n",
    "conf_matrix_knn = confusion_matrix(y_test, predictions_knn)\n",
    "classification_report_knn = classification_report(y_test,predictions_knn)\n",
    "\n",
    "print(f'Accuracy: {accuracy_knn}')\n",
    "print('Confusion Matrix:')\n",
    "print(conf_matrix_knn)\n",
    "print(\"classification_report_knn\")\n",
    "print(classification_report_knn)"
   ]
  },
  {
   "cell_type": "code",
   "execution_count": 8,
   "id": "077766d2-88f3-44b1-9902-dd4c59b643ed",
   "metadata": {},
   "outputs": [
    {
     "name": "stdout",
     "output_type": "stream",
     "text": [
      "Accuracy: 87.1559633027523\n",
      "Confusion Matrix:\n",
      "[[74  3]\n",
      " [11 21]]\n",
      "classification_report_svm\n",
      "              precision    recall  f1-score   support\n",
      "\n",
      "           0       0.87      0.96      0.91        77\n",
      "           1       0.88      0.66      0.75        32\n",
      "\n",
      "    accuracy                           0.87       109\n",
      "   macro avg       0.87      0.81      0.83       109\n",
      "weighted avg       0.87      0.87      0.87       109\n",
      "\n"
     ]
    }
   ],
   "source": [
    "X_train, X_test, y_train, y_test = train_test_split(X, y, test_size=0.2, random_state=42)\n",
    "\n",
    "pipeline_svm = Pipeline(steps=[\n",
    "    ('preprocessor', preprocessor),\n",
    "    ('svm', SVC())\n",
    "])\n",
    "pipeline_svm.fit(X_train, y_train)\n",
    "predictions_svm = pipeline_svm.predict(X_test)\n",
    "accuracy_svm = accuracy_score(y_test, predictions_svm)*100\n",
    "conf_matrix_svm = confusion_matrix(y_test, predictions_svm)\n",
    "classification_report_svm = classification_report(y_test,predictions_svm)\n",
    "\n",
    "print(f'Accuracy: {accuracy_svm}')\n",
    "print('Confusion Matrix:')\n",
    "print(conf_matrix_svm)\n",
    "print(\"classification_report_svm\")\n",
    "print(classification_report_svm)"
   ]
  },
  {
   "cell_type": "code",
   "execution_count": 11,
   "id": "8b40fd5e-8d51-4c9c-96f2-907e6403cfd1",
   "metadata": {},
   "outputs": [
    {
     "name": "stdout",
     "output_type": "stream",
     "text": [
      "Accuracy: 87.1559633027523\n",
      "Confusion Matrix:\n",
      "[[74  3]\n",
      " [16 16]]\n",
      "classification_report_Random_forest\n",
      "              precision    recall  f1-score   support\n",
      "\n",
      "           0       0.82      0.96      0.89        77\n",
      "           1       0.84      0.50      0.63        32\n",
      "\n",
      "    accuracy                           0.83       109\n",
      "   macro avg       0.83      0.73      0.76       109\n",
      "weighted avg       0.83      0.83      0.81       109\n",
      "\n"
     ]
    }
   ],
   "source": [
    "X_train, X_test, y_train, y_test = train_test_split(X, y, test_size=0.2, random_state=42)\n",
    "\n",
    "pipeline3 = Pipeline(steps=[\n",
    "    ('preprocessor', preprocessor),\n",
    "    ('Random forest',RandomForestClassifier(n_estimators=100))\n",
    "])\n",
    "\n",
    "pipeline3.fit(X_train, y_train)\n",
    "\n",
    "predictions_Rf = pipeline3.predict(X_test)\n",
    "\n",
    "accuracy_Rf = accuracy_score(y_test, predictions_svm)*100\n",
    "conf_matrix_Rf = confusion_matrix(y_test, predictions_Rf)\n",
    "classification_report_Random_forest = classification_report(y_test,predictions_Rf)\n",
    "\n",
    "print(f'Accuracy: {accuracy_Rf}')\n",
    "print('Confusion Matrix:')\n",
    "print(conf_matrix_Rf)\n",
    "print(\"classification_report_Random_forest\")\n",
    "print(classification_report_Random_forest)"
   ]
  },
  {
   "cell_type": "code",
   "execution_count": 13,
   "id": "680f50b3",
   "metadata": {},
   "outputs": [],
   "source": [
    "data1 =np.array([33,68.8,165,25.27089073,11,\t72\t,18,\t11.8,2,\t5,10,1,0,494.08,494.08,5.54,0.88,6.295454545,40\t,36,\t0.9,\t2.54,6.63,\t10.52,49.7,0.36,84\t,0\t,0\t,0\t,1,\t1,\t1,\t0\t,120,\t80,\t13\t,15\t,18\t,20,\t10])"
   ]
  },
  {
   "cell_type": "code",
   "execution_count": 14,
   "id": "979ecf07",
   "metadata": {},
   "outputs": [
    {
     "name": "stdout",
     "output_type": "stream",
     "text": [
      "Prediction: [0]\n"
     ]
    }
   ],
   "source": [
    "data1_ = np.array(data1).reshape(1, -1)\n",
    "input_data = pd.DataFrame([data1], columns=X.columns)\n",
    "\n",
    "# Predict using the pipeline\n",
    "predic = pipeline_svm.predict(input_data)\n",
    "print(\"Prediction:\", predic)\n"
   ]
  },
  {
   "cell_type": "code",
   "execution_count": 16,
   "id": "03d384d2",
   "metadata": {},
   "outputs": [],
   "source": [
    "import joblib\n",
    "joblib.dump(pipeline3, 'random_forest_model.pkl')\n",
    "joblib.dump(pipeline_knn, 'knn_model.pkl')\n",
    "joblib.dump(pipeline_svm, 'svm_model.pkl')\n",
    "\n",
    "# Load the model from the file\n",
    "loaded_model_Rf = joblib.load('random_forest_model.pkl')\n",
    "loaded_model_knn = joblib.load('knn_model.pkl')\n",
    "loaded_model_svm = joblib.load('svm_model.pkl')"
   ]
  },
  {
   "cell_type": "code",
   "execution_count": null,
   "id": "4ef420da-be3a-4353-a7db-2869d5209b0e",
   "metadata": {},
   "outputs": [],
   "source": []
  }
 ],
 "metadata": {
  "kernelspec": {
   "display_name": "Python 3 (ipykernel)",
   "language": "python",
   "name": "python3"
  },
  "language_info": {
   "codemirror_mode": {
    "name": "ipython",
    "version": 3
   },
   "file_extension": ".py",
   "mimetype": "text/x-python",
   "name": "python",
   "nbconvert_exporter": "python",
   "pygments_lexer": "ipython3",
   "version": "3.11.7"
  }
 },
 "nbformat": 4,
 "nbformat_minor": 5
}
